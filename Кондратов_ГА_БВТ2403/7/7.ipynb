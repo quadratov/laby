{
 "cells": [
  {
   "cell_type": "code",
   "execution_count": 46,
   "metadata": {},
   "outputs": [],
   "source": [
    "class Employee:\n",
    "\n",
    "    def __init__(self, name, id) -> None:\n",
    "        self.name = name\n",
    "        self.id = id\n",
    "\n",
    "    def get_info(self) -> str:\n",
    "        return f'Name: {self.name}\\nID: {self.id}'"
   ]
  },
  {
   "cell_type": "code",
   "execution_count": 47,
   "metadata": {},
   "outputs": [],
   "source": [
    "class Manager(Employee):\n",
    "    def __init__(self, name, id, department):\n",
    "        Employee.__init__(self, name, id)\n",
    "        self.department = department\n",
    "\n",
    "    def manage_project(self):\n",
    "        return f\"{self.name} is managing a project\"\n",
    "\n",
    "    def get_info(self):\n",
    "        return f\"{super().get_info()}]\\n Department: {self.department}\""
   ]
  },
  {
   "cell_type": "code",
   "execution_count": 48,
   "metadata": {},
   "outputs": [],
   "source": [
    "class Technician(Employee):\n",
    "    def __init__(self, name, id, specialization):\n",
    "        Employee.__init__(self, name, id)\n",
    "        self.specialization = specialization\n",
    "\n",
    "    def perform_maintenance(self):\n",
    "        return f\"{self.name} is performing maintenance\"\n",
    "\n",
    "    def get_info(self):\n",
    "        return f\"{super().get_info()}\\n Specialization: {self.specialization}\""
   ]
  },
  {
   "cell_type": "code",
   "execution_count": null,
   "metadata": {},
   "outputs": [
    {
     "name": "stdout",
     "output_type": "stream",
     "text": [
      "slave2 is performing maintenance\n",
      "1)\n",
      " Name: slave\n",
      "ID: 1\n",
      "2)\n",
      " Name: slave2\n",
      "ID: 2\n",
      " Specialization: IT\n"
     ]
    }
   ],
   "source": [
    "class TechManager(Manager, Technician):\n",
    "    def __init__(self, name, id, department, specialization):\n",
    "        Manager.__init__(self, name, id, department)\n",
    "        Technician.__init__(self, name, id, specialization)\n",
    "        self.slaves = []\n",
    "\n",
    "    def add_employee(self, employee):\n",
    "        self.slaves.append(employee)\n",
    "\n",
    "    def get_team_info(self):\n",
    "        for i, emp in enumerate(self.slaves):\n",
    "            print(f'{i+1})\\n', emp.get_info())\n",
    "    \n",
    "tm = TechManager('osama', 9112001, 'information', 'technologies')\n",
    "new_employee = Employee('employee', 1)\n",
    "tm.add_employee(new_employee)\n",
    "\n",
    "new_employee = Technician('employee2', 2, 'IT')\n",
    "print(new_employee.perform_maintenance())\n",
    "tm.add_employee(new_employee)\n",
    "\n",
    "tm.get_team_info()"
   ]
  }
 ],
 "metadata": {
  "kernelspec": {
   "display_name": "Python 3",
   "language": "python",
   "name": "python3"
  },
  "language_info": {
   "codemirror_mode": {
    "name": "ipython",
    "version": 3
   },
   "file_extension": ".py",
   "mimetype": "text/x-python",
   "name": "python",
   "nbconvert_exporter": "python",
   "pygments_lexer": "ipython3",
   "version": "3.12.5"
  }
 },
 "nbformat": 4,
 "nbformat_minor": 2
}
