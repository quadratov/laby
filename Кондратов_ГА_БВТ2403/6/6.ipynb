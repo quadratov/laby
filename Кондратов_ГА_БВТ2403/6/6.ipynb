{
 "cells": [
  {
   "cell_type": "markdown",
   "metadata": {},
   "source": [
    "Задание 1"
   ]
  },
  {
   "cell_type": "code",
   "execution_count": 1,
   "metadata": {},
   "outputs": [],
   "source": [
    "class UserAccount():\n",
    "\n",
    "    def __init__(self, username, email, password) -> None:\n",
    "        self.username = username\n",
    "        self.email = email\n",
    "        self.__password = password\n",
    "\n",
    "    def check_password(self, password) -> bool:\n",
    "        return True if self.__password == password else False\n",
    "\n",
    "    def set_password(self, password, new_password) -> None:\n",
    "\n",
    "        if self.check_password(password):\n",
    "            self.__password = new_password"
   ]
  },
  {
   "cell_type": "code",
   "execution_count": 2,
   "metadata": {},
   "outputs": [
    {
     "name": "stdout",
     "output_type": "stream",
     "text": [
      "False\n",
      "True\n"
     ]
    }
   ],
   "source": [
    "user = UserAccount('name', 'email', 'password')\n",
    "print(user.check_password('password2'))\n",
    "\n",
    "user.set_password('password', 'password2')\n",
    "print(user.check_password('password2'))"
   ]
  },
  {
   "cell_type": "markdown",
   "metadata": {},
   "source": [
    "Задание 2"
   ]
  },
  {
   "cell_type": "code",
   "execution_count": 12,
   "metadata": {},
   "outputs": [],
   "source": [
    "class Vehicle():\n",
    "\n",
    "    def __init__(self, make, model) -> None:\n",
    "        self.make = make\n",
    "        self.model = model\n",
    "\n",
    "    def get_info(self) -> str:\n",
    "        return f'Make: {self.make}\\nModel: {self.model}\\n'\n",
    "    \n",
    "class Car(Vehicle):\n",
    "\n",
    "    def __init__(self, make, model, fuel_type) -> None:\n",
    "        super().__init__(make, model)\n",
    "        self.fuel_type = fuel_type\n",
    "\n",
    "    def get_info(self) -> str:\n",
    "        return super().get_info() + f'Fuel type: {self.fuel_type}'\n"
   ]
  },
  {
   "cell_type": "code",
   "execution_count": 14,
   "metadata": {},
   "outputs": [
    {
     "name": "stdout",
     "output_type": "stream",
     "text": [
      "Make: Honda\n",
      "Model: Civic EK9\n",
      "Fuel type: Gasoline\n"
     ]
    }
   ],
   "source": [
    "car = Car('Honda', 'Civic EK9', 'Gasoline')\n",
    "print(car.get_info())"
   ]
  }
 ],
 "metadata": {
  "kernelspec": {
   "display_name": "Python 3",
   "language": "python",
   "name": "python3"
  },
  "language_info": {
   "codemirror_mode": {
    "name": "ipython",
    "version": 3
   },
   "file_extension": ".py",
   "mimetype": "text/x-python",
   "name": "python",
   "nbconvert_exporter": "python",
   "pygments_lexer": "ipython3",
   "version": "3.12.5"
  }
 },
 "nbformat": 4,
 "nbformat_minor": 2
}
