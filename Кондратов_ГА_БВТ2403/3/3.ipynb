{
  "cells": [
    {
      "cell_type": "markdown",
      "metadata": {
        "id": "QEx6cUFyY-qQ"
      },
      "source": [
        "Задание 1"
      ]
    },
    {
      "cell_type": "code",
      "execution_count": 1,
      "metadata": {
        "id": "Rq4VTcddXLDS"
      },
      "outputs": [],
      "source": [
        "def read_file(path, mode='full') -> None:\n",
        "\n",
        "  if mode == 'full':\n",
        "    with open(path, 'r') as file:\n",
        "      print(file.read())\n",
        "\n",
        "  elif mode == 'strings':\n",
        "    with open(path, 'r') as file:\n",
        "      for line in file:\n",
        "        print(line)\n",
        "\n",
        "  else:\n",
        "    print('Неверный метод чтения')"
      ]
    },
    {
      "cell_type": "code",
      "execution_count": 2,
      "metadata": {
        "colab": {
          "base_uri": "https://localhost:8080/"
        },
        "id": "DCDAyWfgbQBy",
        "outputId": "e846ffa6-1583-4f12-99f7-8f87192eb8fd"
      },
      "outputs": [
        {
          "name": "stdout",
          "output_type": "stream",
          "text": [
            "123\n",
            "456\n",
            "789\n"
          ]
        }
      ],
      "source": [
        "read_file('example.txt')"
      ]
    },
    {
      "cell_type": "code",
      "execution_count": 3,
      "metadata": {
        "colab": {
          "base_uri": "https://localhost:8080/"
        },
        "id": "yBEFt6_4bUOl",
        "outputId": "c98d96db-f91a-4ba2-b6ae-4ccb8a1ea4cb"
      },
      "outputs": [
        {
          "name": "stdout",
          "output_type": "stream",
          "text": [
            "123\n",
            "\n",
            "456\n",
            "\n",
            "789\n"
          ]
        }
      ],
      "source": [
        "read_file('example.txt', mode='strings')"
      ]
    },
    {
      "cell_type": "markdown",
      "metadata": {
        "id": "S_wcNcibbopU"
      },
      "source": [
        "Задание 2"
      ]
    },
    {
      "cell_type": "code",
      "execution_count": 8,
      "metadata": {
        "colab": {
          "base_uri": "https://localhost:8080/"
        },
        "id": "jWqyeOr1brB8",
        "outputId": "e0e348cf-426b-460d-82dc-0f336e4abe39"
      },
      "outputs": [],
      "source": [
        "with open('user_input.txt', 'a') as file:\n",
        "  file.write(input() + '\\n')"
      ]
    },
    {
      "cell_type": "markdown",
      "metadata": {
        "id": "js0HiFtUcq-x"
      },
      "source": [
        "Задание 3"
      ]
    },
    {
      "cell_type": "code",
      "execution_count": 9,
      "metadata": {
        "id": "bkHuWeCOctRV"
      },
      "outputs": [],
      "source": [
        "def read_file_new(path, mode='full') -> None:\n",
        "\n",
        "  try:\n",
        "    if mode == 'full':\n",
        "      with open(path, 'r') as file:\n",
        "        print(file.read())\n",
        "\n",
        "    elif mode == 'strings':\n",
        "      with open(path, 'r') as file:\n",
        "        for line in file:\n",
        "          print(line)\n",
        "\n",
        "    else:\n",
        "      print('Неверный метод чтения')\n",
        "\n",
        "  except FileNotFoundError:\n",
        "    print('Такого файла не существует')"
      ]
    },
    {
      "cell_type": "code",
      "execution_count": 10,
      "metadata": {
        "colab": {
          "base_uri": "https://localhost:8080/"
        },
        "id": "U-jRK-t_c-cg",
        "outputId": "5bc7d193-9515-4538-c3e8-dd460127cdec"
      },
      "outputs": [
        {
          "name": "stdout",
          "output_type": "stream",
          "text": [
            "Такого файла не существует\n"
          ]
        }
      ],
      "source": [
        "read_file_new('test.txt')"
      ]
    }
  ],
  "metadata": {
    "colab": {
      "provenance": []
    },
    "kernelspec": {
      "display_name": "Python 3",
      "name": "python3"
    },
    "language_info": {
      "codemirror_mode": {
        "name": "ipython",
        "version": 3
      },
      "file_extension": ".py",
      "mimetype": "text/x-python",
      "name": "python",
      "nbconvert_exporter": "python",
      "pygments_lexer": "ipython3",
      "version": "3.12.5"
    }
  },
  "nbformat": 4,
  "nbformat_minor": 0
}
